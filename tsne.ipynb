{
 "cells": [
  {
   "cell_type": "code",
   "execution_count": null,
   "id": "d2d82939-2b65-42b7-9763-f6afb979366b",
   "metadata": {},
   "outputs": [],
   "source": [
    "%matplotlib widget\n",
    "\n",
    "import keras\n",
    "import tensorflow as tf\n",
    "import numpy as np\n",
    "from sklearn.manifold import TSNE\n",
    "import numpy as np\n",
    "from  matplotlib import pyplot as plt\n",
    "\n",
    "train_ds = tf.keras.utils.image_dataset_from_directory(\n",
    "        \"../data_ssl/test_labeled/\",\n",
    "        seed=5,\n",
    "        image_size=(224, 224),\n",
    "        batch_size=32,\n",
    "        shuffle=True,\n",
    "        color_mode=\"rgb\",\n",
    "        label_mode=\"categorical\",\n",
    "    )\n",
    "\n",
    "pseudo_labels = np.load(\"pseudo2_eff.npy\")\n",
    "model = keras.models.load_model(\"pseudo2_eff.keras\")\n",
    "\n",
    "model2 = tf.keras.Model(inputs=model.input, outputs=model.layers[-2].output)\n",
    "test_ds = np.concatenate(list(train_ds.take(15).map(lambda x, y : x))) # get five batches of images and convert to numpy array\n",
    "features = model2(test_ds)\n",
    "labels = np.argmax(model(test_ds), axis=-1)\n",
    "tsne = TSNE(n_components=2).fit_transform(features)\n",
    "\n",
    "def scale_to_01_range(x):\n",
    "\n",
    "    value_range = (np.max(x) - np.min(x))\n",
    "    starts_from_zero = x - np.min(x)\n",
    "    return starts_from_zero / value_range\n",
    "\n",
    "tx = tsne[:, 0]\n",
    "ty = tsne[:, 1]\n",
    "\n",
    "tx = scale_to_01_range(tx)\n",
    "ty = scale_to_01_range(ty)\n",
    "\n",
    "colors = ['red', 'blue', 'green', 'brown', 'yellow', \"pink\", \"aqua\"]\n",
    "classes = train_ds.class_names\n",
    "print(classes)\n",
    "fig = plt.figure()\n",
    "ax = fig.add_subplot(111)\n",
    "for idx, c in enumerate(colors):\n",
    "    indices = [i for i, l in enumerate(labels) if idx == l]\n",
    "    current_tx = np.take(tx, indices)\n",
    "    current_ty = np.take(ty, indices)\n",
    "    ax.scatter(current_tx, current_ty, c=c, label=classes[idx])\n",
    "\n",
    "ax.legend(loc='best')\n",
    "plt.show()"
   ]
  }
 ],
 "metadata": {
  "kernelspec": {
   "display_name": "Python 3 (ipykernel)",
   "language": "python",
   "name": "python3"
  },
  "language_info": {
   "codemirror_mode": {
    "name": "ipython",
    "version": 3
   },
   "file_extension": ".py",
   "mimetype": "text/x-python",
   "name": "python",
   "nbconvert_exporter": "python",
   "pygments_lexer": "ipython3",
   "version": "3.10.12"
  }
 },
 "nbformat": 4,
 "nbformat_minor": 5
}
